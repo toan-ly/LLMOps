{
 "cells": [
  {
   "cell_type": "code",
   "execution_count": 1,
   "id": "4da79a85",
   "metadata": {},
   "outputs": [
    {
     "name": "stderr",
     "output_type": "stream",
     "text": [
      "/Users/toanly/Main/Projects/LLMOps/.venv/lib/python3.12/site-packages/tqdm/auto.py:21: TqdmWarning: IProgress not found. Please update jupyter and ipywidgets. See https://ipywidgets.readthedocs.io/en/stable/user_install.html\n",
      "  from .autonotebook import tqdm as notebook_tqdm\n"
     ]
    }
   ],
   "source": [
    "from huggingface_hub import snapshot_download"
   ]
  },
  {
   "cell_type": "code",
   "execution_count": 2,
   "id": "09d86502",
   "metadata": {},
   "outputs": [
    {
     "name": "stderr",
     "output_type": "stream",
     "text": [
      "Fetching 7 files: 100%|██████████| 7/7 [00:01<00:00,  4.93it/s]\n"
     ]
    },
    {
     "data": {
      "text/plain": [
       "'/Users/toanly/.cache/huggingface/hub/models--thuanan--Llama-3.2-1B-Instruct-lora-vsf/snapshots/a4ecdb44c2d665ad5a2cfcbc6f005f3e2e3646cc'"
      ]
     },
     "execution_count": 2,
     "metadata": {},
     "output_type": "execute_result"
    }
   ],
   "source": [
    "vsf_lora_path = snapshot_download(repo_id=\"thuanan/Llama-3.2-1B-Instruct-lora-vsf\")\n",
    "vsf_lora_path"
   ]
  },
  {
   "cell_type": "code",
   "execution_count": 3,
   "id": "5e132dde",
   "metadata": {},
   "outputs": [
    {
     "name": "stderr",
     "output_type": "stream",
     "text": [
      "Fetching 4 files: 100%|██████████| 4/4 [00:01<00:00,  3.41it/s]\n"
     ]
    },
    {
     "data": {
      "text/plain": [
       "'/Users/toanly/.cache/huggingface/hub/models--thuanan--med-mcqa-llama-3.2-1B-Instruct-4bit-lora/snapshots/f211dff2cd67765206902672f51fb683854801e8'"
      ]
     },
     "execution_count": 3,
     "metadata": {},
     "output_type": "execute_result"
    }
   ],
   "source": [
    "med_qa_lora_path = snapshot_download(repo_id=\"thuanan/med-mcqa-llama-3.2-1B-Instruct-4bit-lora\")\n",
    "med_qa_lora_path"
   ]
  }
 ],
 "metadata": {
  "kernelspec": {
   "display_name": "llmops (3.12.11)",
   "language": "python",
   "name": "python3"
  },
  "language_info": {
   "codemirror_mode": {
    "name": "ipython",
    "version": 3
   },
   "file_extension": ".py",
   "mimetype": "text/x-python",
   "name": "python",
   "nbconvert_exporter": "python",
   "pygments_lexer": "ipython3",
   "version": "3.12.11"
  }
 },
 "nbformat": 4,
 "nbformat_minor": 5
}
